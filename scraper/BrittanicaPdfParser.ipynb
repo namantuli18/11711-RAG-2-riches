{
  "nbformat": 4,
  "nbformat_minor": 0,
  "metadata": {
    "colab": {
      "provenance": []
    },
    "kernelspec": {
      "name": "python3",
      "display_name": "Python 3"
    },
    "language_info": {
      "name": "python"
    }
  },
  "cells": [
    {
      "cell_type": "code",
      "execution_count": 2,
      "metadata": {
        "colab": {
          "base_uri": "https://localhost:8080/"
        },
        "id": "cSiOt1jsDQaV",
        "outputId": "6822ad3c-13b4-42f5-c404-d1cdf3c062cd"
      },
      "outputs": [
        {
          "output_type": "stream",
          "name": "stdout",
          "text": [
            "Collecting pdfplumber\n",
            "  Downloading pdfplumber-0.11.4-py3-none-any.whl.metadata (41 kB)\n",
            "\u001b[?25l     \u001b[90m━━━━━━━━━━━━━━━━━━━━━━━━━━━━━━━━━━━━━━━━\u001b[0m \u001b[32m0.0/42.0 kB\u001b[0m \u001b[31m?\u001b[0m eta \u001b[36m-:--:--\u001b[0m\r\u001b[2K     \u001b[90m━━━━━━━━━━━━━━━━━━━━━━━━━━━━━━━━━━━━━━━━\u001b[0m \u001b[32m42.0/42.0 kB\u001b[0m \u001b[31m3.0 MB/s\u001b[0m eta \u001b[36m0:00:00\u001b[0m\n",
            "\u001b[?25hCollecting pdfminer.six==20231228 (from pdfplumber)\n",
            "  Downloading pdfminer.six-20231228-py3-none-any.whl.metadata (4.2 kB)\n",
            "Requirement already satisfied: Pillow>=9.1 in /usr/local/lib/python3.10/dist-packages (from pdfplumber) (10.4.0)\n",
            "Collecting pypdfium2>=4.18.0 (from pdfplumber)\n",
            "  Downloading pypdfium2-4.30.0-py3-none-manylinux_2_17_x86_64.manylinux2014_x86_64.whl.metadata (48 kB)\n",
            "\u001b[2K     \u001b[90m━━━━━━━━━━━━━━━━━━━━━━━━━━━━━━━━━━━━━━━━\u001b[0m \u001b[32m48.5/48.5 kB\u001b[0m \u001b[31m2.9 MB/s\u001b[0m eta \u001b[36m0:00:00\u001b[0m\n",
            "\u001b[?25hRequirement already satisfied: charset-normalizer>=2.0.0 in /usr/local/lib/python3.10/dist-packages (from pdfminer.six==20231228->pdfplumber) (3.4.0)\n",
            "Requirement already satisfied: cryptography>=36.0.0 in /usr/local/lib/python3.10/dist-packages (from pdfminer.six==20231228->pdfplumber) (43.0.1)\n",
            "Requirement already satisfied: cffi>=1.12 in /usr/local/lib/python3.10/dist-packages (from cryptography>=36.0.0->pdfminer.six==20231228->pdfplumber) (1.17.1)\n",
            "Requirement already satisfied: pycparser in /usr/local/lib/python3.10/dist-packages (from cffi>=1.12->cryptography>=36.0.0->pdfminer.six==20231228->pdfplumber) (2.22)\n",
            "Downloading pdfplumber-0.11.4-py3-none-any.whl (59 kB)\n",
            "\u001b[2K   \u001b[90m━━━━━━━━━━━━━━━━━━━━━━━━━━━━━━━━━━━━━━━━\u001b[0m \u001b[32m59.2/59.2 kB\u001b[0m \u001b[31m4.6 MB/s\u001b[0m eta \u001b[36m0:00:00\u001b[0m\n",
            "\u001b[?25hDownloading pdfminer.six-20231228-py3-none-any.whl (5.6 MB)\n",
            "\u001b[2K   \u001b[90m━━━━━━━━━━━━━━━━━━━━━━━━━━━━━━━━━━━━━━━━\u001b[0m \u001b[32m5.6/5.6 MB\u001b[0m \u001b[31m58.5 MB/s\u001b[0m eta \u001b[36m0:00:00\u001b[0m\n",
            "\u001b[?25hDownloading pypdfium2-4.30.0-py3-none-manylinux_2_17_x86_64.manylinux2014_x86_64.whl (2.8 MB)\n",
            "\u001b[2K   \u001b[90m━━━━━━━━━━━━━━━━━━━━━━━━━━━━━━━━━━━━━━━━\u001b[0m \u001b[32m2.8/2.8 MB\u001b[0m \u001b[31m57.7 MB/s\u001b[0m eta \u001b[36m0:00:00\u001b[0m\n",
            "\u001b[?25hInstalling collected packages: pypdfium2, pdfminer.six, pdfplumber\n",
            "Successfully installed pdfminer.six-20231228 pdfplumber-0.11.4 pypdfium2-4.30.0\n"
          ]
        }
      ],
      "source": [
        "!pip install pdfplumber"
      ]
    },
    {
      "cell_type": "code",
      "source": [
        "# This is a easier way to extract data from britannica website.\n",
        "# There was a print option on the website that converts the content into pdfs\n",
        "# So, we are using the pdfs to extract the text now\n",
        "\n",
        "import pdfplumber\n",
        "import os\n",
        "\n",
        "def is_redundant(char_block):\n",
        "    font_size_threshold = 8\n",
        "    return char_block['size'] < font_size_threshold\n",
        "\n",
        "pdf_files = ['Allegheny.pdf', 'Andrew Mellon.pdf', 'Henry John Heinz.pdf', 'Monongahela River.pdf', 'Monroeville.pdf', 'Pittsburgh Penguins.pdf', 'Pittsburgh Pirates.pdf', 'Pittsburgh Steelers.pdf', 'Pittsburgh Symphony.pdf', 'Pittsburgh glass.pdf', 'Pittsburgh.pdf']\n",
        "\n",
        "\n",
        "for pdf_path in pdf_files:\n",
        "    file_name = os.path.splitext(os.path.basename(pdf_path))[0]\n",
        "    output_file_path = f'{file_name}.txt'\n",
        "\n",
        "    with pdfplumber.open(pdf_path) as pdf:\n",
        "        full_text = \"\"\n",
        "        for page in pdf.pages:\n",
        "            text = \"\"\n",
        "            for char_block in page.chars:\n",
        "                if not is_redundant(char_block):\n",
        "                    text += char_block['text']\n",
        "\n",
        "            full_text += text + \"\\n\"\n",
        "\n",
        "    stop_phrase = \"Citation Information\"\n",
        "    if stop_phrase in full_text:\n",
        "        full_text = full_text.split(stop_phrase)[0]\n",
        "\n",
        "    with open(output_file_path, 'w', encoding='utf-8') as text_file:\n",
        "        text_file.write(full_text)\n",
        "\n",
        "    print(f\"Extracted text saved to {output_file_path}\")"
      ],
      "metadata": {
        "colab": {
          "base_uri": "https://localhost:8080/"
        },
        "id": "WFFJQxhwgg_J",
        "outputId": "b9b0d20e-2072-4221-87db-9c09e55b05d4"
      },
      "execution_count": 5,
      "outputs": [
        {
          "output_type": "stream",
          "name": "stdout",
          "text": [
            "Extracted text saved to Allegheny.txt\n",
            "Extracted text saved to Andrew Mellon.txt\n",
            "Extracted text saved to Henry John Heinz.txt\n",
            "Extracted text saved to Monongahela River.txt\n",
            "Extracted text saved to Monroeville.txt\n",
            "Extracted text saved to Pittsburgh Penguins.txt\n",
            "Extracted text saved to Pittsburgh Pirates.txt\n",
            "Extracted text saved to Pittsburgh Steelers.txt\n",
            "Extracted text saved to Pittsburgh Symphony.txt\n",
            "Extracted text saved to Pittsburgh glass.txt\n",
            "Extracted text saved to Pittsburgh.txt\n"
          ]
        }
      ]
    },
    {
      "cell_type": "code",
      "source": [],
      "metadata": {
        "id": "0y38oXBrgfkL"
      },
      "execution_count": null,
      "outputs": []
    }
  ]
}