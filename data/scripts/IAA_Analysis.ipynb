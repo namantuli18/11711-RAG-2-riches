{
  "nbformat": 4,
  "nbformat_minor": 0,
  "metadata": {
    "colab": {
      "provenance": []
    },
    "kernelspec": {
      "name": "python3",
      "display_name": "Python 3"
    },
    "language_info": {
      "name": "python"
    }
  },
  "cells": [
    {
      "cell_type": "code",
      "execution_count": 1,
      "metadata": {
        "colab": {
          "base_uri": "https://localhost:8080/"
        },
        "id": "ZH1Q4RrEzIri",
        "outputId": "bb22d4f6-1412-4927-f89b-3c507b053bca"
      },
      "outputs": [
        {
          "output_type": "stream",
          "name": "stdout",
          "text": [
            "Random sample of 50 rows saved to 'random_sample.csv'\n"
          ]
        }
      ],
      "source": [
        "import pandas as pd\n",
        "\n",
        "file_path = 'manual_data_set.csv'\n",
        "data = pd.read_csv(file_path)\n",
        "\n",
        "\n",
        "sampled_data = data.sample(n=50, random_state=42)\n",
        "sampled_data.to_csv('random_sample.csv', index=False)\n",
        "\n",
        "print(\"Random sample of 50 rows saved to 'random_sample.csv'\")"
      ]
    },
    {
      "cell_type": "code",
      "source": [
        "import pandas as pd\n",
        "from statsmodels.stats.inter_rater import fleiss_kappa\n",
        "\n",
        "data = pd.read_csv('Annotation.csv')\n",
        "\n",
        "annotator_1_labels = data['Yashwanth']\n",
        "annotator_2_labels = data['Naman']\n",
        "annotator_3_labels = data['Sathwik']\n",
        "\n",
        "annotations = data[['Yashwanth', 'Naman', 'Sathwik']]\n",
        "annotations = annotations.replace({'Correct': 1, 'Incorrect': 0})\n",
        "annotations_tally = annotations.apply(pd.Series.value_counts, axis=1).fillna(0)\n",
        "\n",
        "kappa = fleiss_kappa(annotations_tally, method='fleiss')\n",
        "print(f\"Fleiss' Kappa: {kappa}\")"
      ],
      "metadata": {
        "colab": {
          "base_uri": "https://localhost:8080/"
        },
        "id": "F0Eg2Tyg0zgi",
        "outputId": "9a5bbe9e-0e46-4899-d880-7b38fb95271c"
      },
      "execution_count": 8,
      "outputs": [
        {
          "output_type": "stream",
          "name": "stdout",
          "text": [
            "Fleiss' Kappa: 0.45609945609945574\n"
          ]
        }
      ]
    },
    {
      "cell_type": "code",
      "source": [],
      "metadata": {
        "id": "ZveAb5qdfr2I"
      },
      "execution_count": null,
      "outputs": []
    }
  ]
}